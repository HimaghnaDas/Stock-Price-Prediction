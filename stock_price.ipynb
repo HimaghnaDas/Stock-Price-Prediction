{
 "cells": [
  {
   "cell_type": "code",
   "execution_count": 1,
   "id": "ee893201",
   "metadata": {},
   "outputs": [
    {
     "name": "stdout",
     "output_type": "stream",
     "text": [
      "Requirement already satisfied: yfinance in c:\\users\\kiit\\anaconda3\\lib\\site-packages (0.2.36)\n",
      "Requirement already satisfied: pandas>=1.3.0 in c:\\users\\kiit\\anaconda3\\lib\\site-packages (from yfinance) (2.0.3)\n",
      "Requirement already satisfied: numpy>=1.16.5 in c:\\users\\kiit\\anaconda3\\lib\\site-packages (from yfinance) (1.24.3)\n",
      "Requirement already satisfied: requests>=2.31 in c:\\users\\kiit\\anaconda3\\lib\\site-packages (from yfinance) (2.31.0)\n",
      "Requirement already satisfied: multitasking>=0.0.7 in c:\\users\\kiit\\anaconda3\\lib\\site-packages (from yfinance) (0.0.11)\n",
      "Requirement already satisfied: lxml>=4.9.1 in c:\\users\\kiit\\anaconda3\\lib\\site-packages (from yfinance) (4.9.3)\n",
      "Requirement already satisfied: appdirs>=1.4.4 in c:\\users\\kiit\\anaconda3\\lib\\site-packages (from yfinance) (1.4.4)\n",
      "Requirement already satisfied: pytz>=2022.5 in c:\\users\\kiit\\anaconda3\\lib\\site-packages (from yfinance) (2023.3.post1)\n",
      "Requirement already satisfied: frozendict>=2.3.4 in c:\\users\\kiit\\anaconda3\\lib\\site-packages (from yfinance) (2.4.0)\n",
      "Requirement already satisfied: peewee>=3.16.2 in c:\\users\\kiit\\anaconda3\\lib\\site-packages (from yfinance) (3.17.1)\n",
      "Requirement already satisfied: beautifulsoup4>=4.11.1 in c:\\users\\kiit\\anaconda3\\lib\\site-packages (from yfinance) (4.12.2)\n",
      "Requirement already satisfied: html5lib>=1.1 in c:\\users\\kiit\\anaconda3\\lib\\site-packages (from yfinance) (1.1)\n",
      "Requirement already satisfied: soupsieve>1.2 in c:\\users\\kiit\\anaconda3\\lib\\site-packages (from beautifulsoup4>=4.11.1->yfinance) (2.4)\n",
      "Requirement already satisfied: six>=1.9 in c:\\users\\kiit\\anaconda3\\lib\\site-packages (from html5lib>=1.1->yfinance) (1.16.0)\n",
      "Requirement already satisfied: webencodings in c:\\users\\kiit\\anaconda3\\lib\\site-packages (from html5lib>=1.1->yfinance) (0.5.1)\n",
      "Requirement already satisfied: python-dateutil>=2.8.2 in c:\\users\\kiit\\anaconda3\\lib\\site-packages (from pandas>=1.3.0->yfinance) (2.8.2)\n",
      "Requirement already satisfied: tzdata>=2022.1 in c:\\users\\kiit\\anaconda3\\lib\\site-packages (from pandas>=1.3.0->yfinance) (2023.3)\n",
      "Requirement already satisfied: charset-normalizer<4,>=2 in c:\\users\\kiit\\anaconda3\\lib\\site-packages (from requests>=2.31->yfinance) (2.0.4)\n",
      "Requirement already satisfied: idna<4,>=2.5 in c:\\users\\kiit\\anaconda3\\lib\\site-packages (from requests>=2.31->yfinance) (3.4)\n",
      "Requirement already satisfied: urllib3<3,>=1.21.1 in c:\\users\\kiit\\anaconda3\\lib\\site-packages (from requests>=2.31->yfinance) (1.26.16)\n",
      "Requirement already satisfied: certifi>=2017.4.17 in c:\\users\\kiit\\anaconda3\\lib\\site-packages (from requests>=2.31->yfinance) (2023.7.22)\n",
      "Note: you may need to restart the kernel to use updated packages.\n"
     ]
    }
   ],
   "source": [
    "pip install yfinance"
   ]
  },
  {
   "cell_type": "code",
   "execution_count": 2,
   "id": "7236f71f",
   "metadata": {},
   "outputs": [],
   "source": [
    "import numpy as np\n",
    "import pandas as pd\n",
    "\n",
    "import yfinance as yf\n",
    "\n",
    "import seaborn as sns\n",
    "import matplotlib.pyplot as plt"
   ]
  },
  {
   "cell_type": "code",
   "execution_count": 3,
   "id": "d2b0c2b5",
   "metadata": {
    "scrolled": true
   },
   "outputs": [
    {
     "name": "stdout",
     "output_type": "stream",
     "text": [
      "Enter the code of the stock:- NG=F\n"
     ]
    },
    {
     "name": "stderr",
     "output_type": "stream",
     "text": [
      "[*********************100%%**********************]  1 of 1 completed\n"
     ]
    },
    {
     "data": {
      "text/html": [
       "<div>\n",
       "<style scoped>\n",
       "    .dataframe tbody tr th:only-of-type {\n",
       "        vertical-align: middle;\n",
       "    }\n",
       "\n",
       "    .dataframe tbody tr th {\n",
       "        vertical-align: top;\n",
       "    }\n",
       "\n",
       "    .dataframe thead th {\n",
       "        text-align: right;\n",
       "    }\n",
       "</style>\n",
       "<table border=\"1\" class=\"dataframe\">\n",
       "  <thead>\n",
       "    <tr style=\"text-align: right;\">\n",
       "      <th></th>\n",
       "      <th>Open</th>\n",
       "      <th>High</th>\n",
       "      <th>Low</th>\n",
       "      <th>Close</th>\n",
       "      <th>Volume</th>\n",
       "    </tr>\n",
       "    <tr>\n",
       "      <th>Date</th>\n",
       "      <th></th>\n",
       "      <th></th>\n",
       "      <th></th>\n",
       "      <th></th>\n",
       "      <th></th>\n",
       "    </tr>\n",
       "  </thead>\n",
       "  <tbody>\n",
       "    <tr>\n",
       "      <th>2008-01-18</th>\n",
       "      <td>8.110</td>\n",
       "      <td>8.220</td>\n",
       "      <td>7.918</td>\n",
       "      <td>7.993</td>\n",
       "      <td>40635</td>\n",
       "    </tr>\n",
       "    <tr>\n",
       "      <th>2008-01-22</th>\n",
       "      <td>7.940</td>\n",
       "      <td>7.991</td>\n",
       "      <td>7.626</td>\n",
       "      <td>7.670</td>\n",
       "      <td>57441</td>\n",
       "    </tr>\n",
       "    <tr>\n",
       "      <th>2008-01-23</th>\n",
       "      <td>7.685</td>\n",
       "      <td>7.751</td>\n",
       "      <td>7.570</td>\n",
       "      <td>7.621</td>\n",
       "      <td>43756</td>\n",
       "    </tr>\n",
       "    <tr>\n",
       "      <th>2008-01-24</th>\n",
       "      <td>7.700</td>\n",
       "      <td>7.864</td>\n",
       "      <td>7.662</td>\n",
       "      <td>7.802</td>\n",
       "      <td>48880</td>\n",
       "    </tr>\n",
       "    <tr>\n",
       "      <th>2008-01-25</th>\n",
       "      <td>7.830</td>\n",
       "      <td>8.006</td>\n",
       "      <td>7.771</td>\n",
       "      <td>7.983</td>\n",
       "      <td>41991</td>\n",
       "    </tr>\n",
       "  </tbody>\n",
       "</table>\n",
       "</div>"
      ],
      "text/plain": [
       "             Open   High    Low  Close  Volume\n",
       "Date                                          \n",
       "2008-01-18  8.110  8.220  7.918  7.993   40635\n",
       "2008-01-22  7.940  7.991  7.626  7.670   57441\n",
       "2008-01-23  7.685  7.751  7.570  7.621   43756\n",
       "2008-01-24  7.700  7.864  7.662  7.802   48880\n",
       "2008-01-25  7.830  8.006  7.771  7.983   41991"
      ]
     },
     "execution_count": 3,
     "metadata": {},
     "output_type": "execute_result"
    }
   ],
   "source": [
    "stocks = input(\"Enter the code of the stock:- \")\n",
    "data = yf.download(stocks,\"2008-01-18\", auto_adjust=True)\n",
    "data.head()"
   ]
  },
  {
   "cell_type": "code",
   "execution_count": 4,
   "id": "c3d37ee4",
   "metadata": {},
   "outputs": [
    {
     "data": {
      "text/plain": [
       "(4045, 5)"
      ]
     },
     "execution_count": 4,
     "metadata": {},
     "output_type": "execute_result"
    }
   ],
   "source": [
    "data.shape"
   ]
  },
  {
   "cell_type": "code",
   "execution_count": 5,
   "id": "ab142733",
   "metadata": {},
   "outputs": [
    {
     "name": "stdout",
     "output_type": "stream",
     "text": [
      "<class 'pandas.core.frame.DataFrame'>\n",
      "DatetimeIndex: 4045 entries, 2008-01-18 to 2024-02-13\n",
      "Data columns (total 5 columns):\n",
      " #   Column  Non-Null Count  Dtype  \n",
      "---  ------  --------------  -----  \n",
      " 0   Open    4045 non-null   float64\n",
      " 1   High    4045 non-null   float64\n",
      " 2   Low     4045 non-null   float64\n",
      " 3   Close   4045 non-null   float64\n",
      " 4   Volume  4045 non-null   int64  \n",
      "dtypes: float64(4), int64(1)\n",
      "memory usage: 189.6 KB\n"
     ]
    }
   ],
   "source": [
    "data.info()"
   ]
  },
  {
   "cell_type": "code",
   "execution_count": 6,
   "id": "8a4e71b2",
   "metadata": {
    "scrolled": true
   },
   "outputs": [
    {
     "data": {
      "text/html": [
       "<div>\n",
       "<style scoped>\n",
       "    .dataframe tbody tr th:only-of-type {\n",
       "        vertical-align: middle;\n",
       "    }\n",
       "\n",
       "    .dataframe tbody tr th {\n",
       "        vertical-align: top;\n",
       "    }\n",
       "\n",
       "    .dataframe thead th {\n",
       "        text-align: right;\n",
       "    }\n",
       "</style>\n",
       "<table border=\"1\" class=\"dataframe\">\n",
       "  <thead>\n",
       "    <tr style=\"text-align: right;\">\n",
       "      <th></th>\n",
       "      <th>Open</th>\n",
       "      <th>High</th>\n",
       "      <th>Low</th>\n",
       "      <th>Close</th>\n",
       "      <th>Volume</th>\n",
       "    </tr>\n",
       "  </thead>\n",
       "  <tbody>\n",
       "    <tr>\n",
       "      <th>count</th>\n",
       "      <td>4045.000000</td>\n",
       "      <td>4045.000000</td>\n",
       "      <td>4045.000000</td>\n",
       "      <td>4045.000000</td>\n",
       "      <td>4045.000000</td>\n",
       "    </tr>\n",
       "    <tr>\n",
       "      <th>mean</th>\n",
       "      <td>3.806945</td>\n",
       "      <td>3.893652</td>\n",
       "      <td>3.716043</td>\n",
       "      <td>3.800026</td>\n",
       "      <td>131282.259333</td>\n",
       "    </tr>\n",
       "    <tr>\n",
       "      <th>std</th>\n",
       "      <td>1.860484</td>\n",
       "      <td>1.909619</td>\n",
       "      <td>1.807519</td>\n",
       "      <td>1.855642</td>\n",
       "      <td>54366.367098</td>\n",
       "    </tr>\n",
       "    <tr>\n",
       "      <th>min</th>\n",
       "      <td>1.441000</td>\n",
       "      <td>1.567000</td>\n",
       "      <td>1.432000</td>\n",
       "      <td>1.482000</td>\n",
       "      <td>0.000000</td>\n",
       "    </tr>\n",
       "    <tr>\n",
       "      <th>25%</th>\n",
       "      <td>2.686000</td>\n",
       "      <td>2.734000</td>\n",
       "      <td>2.634000</td>\n",
       "      <td>2.684000</td>\n",
       "      <td>92962.000000</td>\n",
       "    </tr>\n",
       "    <tr>\n",
       "      <th>50%</th>\n",
       "      <td>3.273000</td>\n",
       "      <td>3.340000</td>\n",
       "      <td>3.211000</td>\n",
       "      <td>3.266000</td>\n",
       "      <td>126582.000000</td>\n",
       "    </tr>\n",
       "    <tr>\n",
       "      <th>75%</th>\n",
       "      <td>4.277000</td>\n",
       "      <td>4.364000</td>\n",
       "      <td>4.191000</td>\n",
       "      <td>4.271000</td>\n",
       "      <td>160936.000000</td>\n",
       "    </tr>\n",
       "    <tr>\n",
       "      <th>max</th>\n",
       "      <td>13.580000</td>\n",
       "      <td>13.694000</td>\n",
       "      <td>13.306000</td>\n",
       "      <td>13.577000</td>\n",
       "      <td>459196.000000</td>\n",
       "    </tr>\n",
       "  </tbody>\n",
       "</table>\n",
       "</div>"
      ],
      "text/plain": [
       "              Open         High          Low        Close         Volume\n",
       "count  4045.000000  4045.000000  4045.000000  4045.000000    4045.000000\n",
       "mean      3.806945     3.893652     3.716043     3.800026  131282.259333\n",
       "std       1.860484     1.909619     1.807519     1.855642   54366.367098\n",
       "min       1.441000     1.567000     1.432000     1.482000       0.000000\n",
       "25%       2.686000     2.734000     2.634000     2.684000   92962.000000\n",
       "50%       3.273000     3.340000     3.211000     3.266000  126582.000000\n",
       "75%       4.277000     4.364000     4.191000     4.271000  160936.000000\n",
       "max      13.580000    13.694000    13.306000    13.577000  459196.000000"
      ]
     },
     "execution_count": 6,
     "metadata": {},
     "output_type": "execute_result"
    }
   ],
   "source": [
    "data.describe()"
   ]
  },
  {
   "cell_type": "code",
   "execution_count": 7,
   "id": "6e76d561",
   "metadata": {},
   "outputs": [
    {
     "data": {
      "image/png": "[encoded data removed]",
      "text/plain": [
       "<Figure size 1000x700 with 1 Axes>"
      ]
     },
     "metadata": {},
     "output_type": "display_data"
    }
   ],
   "source": [
    "data.Close.plot(figsize=(10, 7),color='r')\n",
    "plt.ylabel(\"{} Prices\".format(stocks))\n",
    "plt.title(\"{} Price Series\".format(stocks))\n",
    "plt.show()"
   ]
  },
  {
   "cell_type": "code",
   "execution_count": 8,
   "id": "36a78611",
   "metadata": {},
   "outputs": [
    {
     "name": "stderr",
     "output_type": "stream",
     "text": [
      "C:\\Users\\KIIT\\AppData\\Local\\Temp\\ipykernel_25264\\2693321050.py:1: UserWarning: \n",
      "\n",
      "`distplot` is a deprecated function and will be removed in seaborn v0.14.0.\n",
      "\n",
      "Please adapt your code to use either `displot` (a figure-level function with\n",
      "similar flexibility) or `histplot` (an axes-level function for histograms).\n",
      "\n",
      "For a guide to updating your code to use the new functions, please see\n",
      "https://gist.github.com/mwaskom/de44147ed2974457ad6372750bbe5751\n",
      "\n",
      "  sns.distplot(data[\"Close\"])\n"
     ]
    },
    {
     "data": {
      "text/plain": [
       "<Axes: xlabel='Close', ylabel='Density'>"
      ]
     },
     "execution_count": 8,
     "metadata": {},
     "output_type": "execute_result"
    },
    {
     "data": {
      "image/png": "[encoded data removed]",
      "text/plain": [
       "<Figure size 640x480 with 1 Axes>"
      ]
     },
     "metadata": {},
     "output_type": "display_data"
    }
   ],
   "source": [
    "sns.distplot(data[\"Close\"])"
   ]
  },
  {
   "cell_type": "code",
   "execution_count": 9,
   "id": "96f277ae",
   "metadata": {
    "scrolled": true
   },
   "outputs": [
    {
     "name": "stderr",
     "output_type": "stream",
     "text": [
      "C:\\Users\\KIIT\\AppData\\Local\\Temp\\ipykernel_25264\\3277148864.py:1: UserWarning: \n",
      "\n",
      "`distplot` is a deprecated function and will be removed in seaborn v0.14.0.\n",
      "\n",
      "Please adapt your code to use either `displot` (a figure-level function with\n",
      "similar flexibility) or `histplot` (an axes-level function for histograms).\n",
      "\n",
      "For a guide to updating your code to use the new functions, please see\n",
      "https://gist.github.com/mwaskom/de44147ed2974457ad6372750bbe5751\n",
      "\n",
      "  sns.distplot(data[\"High\"])\n"
     ]
    },
    {
     "data": {
      "text/plain": [
       "<Axes: xlabel='High', ylabel='Density'>"
      ]
     },
     "execution_count": 9,
     "metadata": {},
     "output_type": "execute_result"
    },
    {
     "data": {
      "image/png": "[encoded data removed]",
      "text/plain": [
       "<Figure size 640x480 with 1 Axes>"
      ]
     },
     "metadata": {},
     "output_type": "display_data"
    }
   ],
   "source": [
    "sns.distplot(data[\"High\"])"
   ]
  },
  {
   "cell_type": "code",
   "execution_count": 10,
   "id": "a86f5742",
   "metadata": {},
   "outputs": [
    {
     "name": "stdout",
     "output_type": "stream",
     "text": [
      "Requirement already satisfied: scikit-learn in c:\\users\\kiit\\anaconda3\\lib\\site-packages (1.3.0)\n",
      "Requirement already satisfied: numpy>=1.17.3 in c:\\users\\kiit\\anaconda3\\lib\\site-packages (from scikit-learn) (1.24.3)\n",
      "Requirement already satisfied: scipy>=1.5.0 in c:\\users\\kiit\\anaconda3\\lib\\site-packages (from scikit-learn) (1.11.1)\n",
      "Requirement already satisfied: joblib>=1.1.1 in c:\\users\\kiit\\anaconda3\\lib\\site-packages (from scikit-learn) (1.2.0)\n",
      "Requirement already satisfied: threadpoolctl>=2.0.0 in c:\\users\\kiit\\anaconda3\\lib\\site-packages (from scikit-learn) (2.2.0)\n",
      "Note: you may need to restart the kernel to use updated packages.\n"
     ]
    }
   ],
   "source": [
    "pip install scikit-learn"
   ]
  },
  {
   "cell_type": "code",
   "execution_count": 12,
   "id": "ec095168",
   "metadata": {},
   "outputs": [
    {
     "name": "stdout",
     "output_type": "stream",
     "text": [
      "(3236, 4)\n",
      "(809, 4)\n",
      "(3236,)\n",
      "(809,)\n"
     ]
    }
   ],
   "source": [
    "X = data.drop(\"Close\",axis=1)\n",
    "y = data[\"Close\"]\n",
    "\n",
    "from sklearn.model_selection import train_test_split\n",
    "\n",
    "X_train, X_test, y_train, y_test = train_test_split(X,y,test_size=0.2,random_state=0)\n",
    "                                                \n",
    "print(X_train.shape)\n",
    "print(X_test.shape)\n",
    "print(y_train.shape)\n",
    "print(y_test.shape)"
   ]
  },
  {
   "cell_type": "code",
   "execution_count": 14,
   "id": "2809ac72",
   "metadata": {},
   "outputs": [],
   "source": [
    "from sklearn.linear_model import LinearRegression\n",
    "\n",
    "lr = LinearRegression()\n",
    "lr.fit(X_train,y_train)\n",
    "pred1 = lr.predict(X_test)"
   ]
  },
  {
   "cell_type": "code",
   "execution_count": 15,
   "id": "6bb611ba",
   "metadata": {},
   "outputs": [
    {
     "data": {
      "text/plain": [
       "array([ 4.35648554,  4.78378776,  3.42711215,  2.54629783,  3.86938598,\n",
       "        3.81422119,  3.77135204,  3.51547179,  2.99979176,  2.45576416,\n",
       "        4.17626266,  3.06672444,  2.92356023,  3.73932249,  3.48511193,\n",
       "        3.74103161,  1.73672929,  3.97620087,  2.70514177,  2.6953014 ,\n",
       "        4.51087884,  3.85815793,  4.57790944,  2.15068905,  2.33234561,\n",
       "        3.59771532,  2.6448264 ,  2.10785589,  3.76156263,  2.66549866,\n",
       "        8.34339634,  4.09445603,  3.73007612,  2.23430922,  3.10038514,\n",
       "        3.33118604,  3.31562547,  3.65128265,  1.76522511,  3.90422521,\n",
       "        1.64125874, 11.88186255,  2.42620263,  3.22687668,  2.27822575,\n",
       "        3.36319413,  9.74959583,  3.6670365 ,  5.4708201 ,  2.30968787,\n",
       "        4.30215829,  2.14851347,  1.9641283 ,  9.24470631,  2.86009227,\n",
       "        2.34677138,  3.73663936,  5.09022533,  4.21864811,  2.83091305,\n",
       "        2.87610195,  3.66629788,  2.54186571,  2.87537845,  2.69391501,\n",
       "        2.75499955,  3.60503322,  4.84428187,  5.55648806,  4.04313401,\n",
       "        3.15364581,  3.85261635,  1.74542627,  2.74041274,  3.00364093,\n",
       "        3.81866625,  5.79300955,  4.29407834,  6.46015913,  3.59315298,\n",
       "        3.6693192 ,  2.76228273,  3.92720786,  1.72028952,  2.33848214,\n",
       "        3.88683747,  2.90003509,  9.53201037,  4.83808304,  4.55797897,\n",
       "        3.57481292,  4.30950854,  2.93628385,  2.82907682,  7.20203873,\n",
       "        5.10838752,  4.353303  ,  5.4643918 ,  4.68942753,  2.22805221,\n",
       "        1.83914148,  2.90040383,  1.85234563,  2.74403338,  6.26025279,\n",
       "        3.09143047,  2.31381475,  3.89175881,  6.72010323,  2.12392907,\n",
       "        3.20979978,  2.7167207 ,  1.8353143 ,  3.40797066,  4.07981904,\n",
       "        3.53369117,  3.75772862,  2.79401636,  2.39607307,  2.58394287,\n",
       "        9.90045032,  3.62931964,  2.73161834,  2.44560363,  4.59402929,\n",
       "        3.45279716,  3.94781659,  2.29592591,  2.88600761,  2.04940748,\n",
       "        4.48738594,  2.63912428,  2.46767271,  5.18014777,  2.19890303,\n",
       "        4.52842837,  2.81349805,  8.01999166,  9.3799684 ,  3.52979777,\n",
       "        4.51644716,  2.50195274,  1.75422174,  2.9631654 ,  3.94752701,\n",
       "        2.99461103,  3.43566489,  2.95299458, 11.90869322,  2.87323254,\n",
       "        2.66825793,  4.17028209,  1.97353662,  2.28779502,  1.8479595 ,\n",
       "        4.00001709,  5.86218287,  4.23667619,  2.30885109,  5.47178004,\n",
       "        4.86366859,  3.93362263,  3.57954864,  9.48465441,  2.54018633,\n",
       "        3.68284243,  2.89845661,  2.8837291 ,  7.71828589,  3.60874823,\n",
       "        3.29837252,  4.61741196,  3.78508516,  5.74329284,  4.32001888,\n",
       "        4.88610086,  6.79799877,  2.59231667,  7.59821392,  4.40711914,\n",
       "        4.34926027,  3.52463412,  2.26987072, 10.8159393 ,  1.81535978,\n",
       "       11.63662821,  2.68595964,  3.59862232,  3.55390579,  2.63953251,\n",
       "        1.99651453, 12.418732  ,  4.00660431,  3.59180313,  5.39033221,\n",
       "        3.11395401,  2.03387768,  3.93405529,  2.66783962,  4.48903709,\n",
       "        2.276215  ,  5.75867673,  1.61676723,  2.72206964,  2.39127323,\n",
       "        3.6278367 ,  4.0673351 ,  2.65291401,  3.92843664,  3.91370539,\n",
       "        6.82120929,  4.50151774,  2.93938198,  5.05675426,  3.73612366,\n",
       "        5.54504959,  2.38375675,  2.09394993,  2.60459514,  2.89089347,\n",
       "        2.44879735,  4.03639381,  6.09485139,  4.16692239,  2.3558068 ,\n",
       "        3.16722994,  2.16831047,  3.84078135,  2.80932526,  1.71391389,\n",
       "        2.68901246,  8.87185951,  2.91407281,  4.10437528,  2.49331133,\n",
       "        2.7816602 ,  3.30333835,  2.5482664 ,  3.92422846,  4.22925498,\n",
       "        2.80883037,  2.62080312,  4.13292091,  3.82461213,  2.94636383,\n",
       "        2.35209551,  4.21449427,  3.67130196,  2.76043347,  2.47080244,\n",
       "        2.32064488,  1.99709923,  3.93228083,  2.63427622,  3.84616128,\n",
       "        3.97560109,  3.15851544,  4.5073478 ,  6.08535545,  4.7893668 ,\n",
       "        4.3554265 ,  4.83837946,  4.30036391,  2.6054608 ,  3.97021481,\n",
       "        2.89671217,  3.99759824,  3.1398817 ,  5.25148661,  7.61156387,\n",
       "        5.48975672,  2.64664053,  3.29713274,  3.80825539,  2.08967522,\n",
       "        3.93227492,  3.23684786,  1.77527614,  3.55906668,  3.91006512,\n",
       "        4.50446144,  2.65140033,  2.62472502,  4.50686002,  1.62422858,\n",
       "        3.35949365,  7.99638791,  3.264204  ,  4.229233  ,  2.65878882,\n",
       "        3.29799815,  2.97751565,  4.25779824,  2.94891148,  2.31961071,\n",
       "        3.49712548,  2.62451734,  2.66341789,  3.25492031,  2.04589639,\n",
       "        4.58750826,  3.0321345 ,  2.84308131,  1.96828949,  5.64978435,\n",
       "        5.43867088,  2.73643403,  3.55070686,  2.96717793,  3.11064342,\n",
       "        2.94775962,  3.91936299,  3.651356  ,  7.13412726,  2.66047441,\n",
       "        1.75000916,  2.76600849,  2.84166951,  2.24688546,  3.53017208,\n",
       "        5.93582802,  2.78927611,  9.26047347,  3.55279729,  1.8575627 ,\n",
       "        2.69961311,  2.96839307,  3.74059343,  3.81456165,  4.03288607,\n",
       "        3.08127146,  3.2940415 ,  2.2095087 ,  2.32268839,  5.60038992,\n",
       "        4.25971165,  2.56207453,  2.33959142,  2.55171508,  2.48921321,\n",
       "        9.43666838,  2.79549207,  4.20549706,  3.12811937,  3.88111076,\n",
       "        5.35188753,  2.27457582,  4.7540236 ,  4.15156418,  2.90395681,\n",
       "        3.92393449,  5.17957577,  2.50388391,  3.9710449 ,  5.47194512,\n",
       "        3.06486919,  3.67575288,  8.25694733,  2.541832  ,  6.64706663,\n",
       "        2.76552379,  3.6751523 ,  3.10443514,  4.52272969,  2.3858439 ,\n",
       "        2.92355963,  2.81074811,  2.63304126,  4.63527562,  2.17250725,\n",
       "        2.80049568,  2.71439202,  1.77713173,  3.46499716,  2.17796741,\n",
       "        3.67980938,  2.57641548,  9.84317479,  2.59711237,  4.10103968,\n",
       "        2.43917315,  2.17298105,  9.64062111,  4.28893266,  4.49045754,\n",
       "        2.51321694,  3.47554454,  2.57930047,  2.1489655 ,  2.82099266,\n",
       "        2.10730585,  8.95858666,  2.31597821,  5.71928609,  3.08653954,\n",
       "        2.93123367,  4.39734589,  2.29920045,  2.33626102,  3.05991161,\n",
       "        4.34194045,  2.38925441,  3.5251077 ,  2.82258944,  1.92731989,\n",
       "        6.30433928,  3.78723949,  2.08516363,  2.59190512,  1.82061088,\n",
       "        1.99196659,  2.62060816,  4.73922042,  9.08282424,  3.66400288,\n",
       "        1.97459846,  4.12970225,  2.93936396,  2.59717078,  7.14503136,\n",
       "        3.61406169,  2.89081854,  1.8361827 ,  4.33856209,  3.12645569,\n",
       "        2.6050554 ,  3.10345172,  2.18217282,  2.91234779,  1.57928999,\n",
       "        2.7869092 ,  3.24292726,  2.59722376,  1.92189884,  3.98328537,\n",
       "        3.22318209,  2.93795921,  4.10974222,  3.88970077,  5.75668405,\n",
       "        3.89872463,  4.08957047,  3.76196981,  6.30762581,  4.32309323,\n",
       "        4.02082227,  3.13953455,  2.2734494 ,  3.78293628,  3.93583337,\n",
       "        3.84968919,  2.77952949,  3.7876877 ,  3.08737975,  3.95729018,\n",
       "        4.31596099, 10.41081887,  2.77658218,  2.51506022,  2.19208546,\n",
       "        4.09407419,  3.0564294 ,  6.92527419,  3.32687267,  8.0448303 ,\n",
       "        2.2801738 ,  9.13068093,  2.39437441,  4.04433556,  5.61100352,\n",
       "        3.59493667,  4.0231914 ,  4.75712752,  2.18515282,  2.54036502,\n",
       "        3.14612777,  2.63634317,  3.78730522,  3.57167206,  4.42886757,\n",
       "        4.47639991,  4.24376037,  6.43959847,  7.88154115,  3.74589071,\n",
       "        4.79852833,  2.81007624,  2.68785636,  3.66221304,  6.80818859,\n",
       "        3.01399698,  4.72285023,  2.66788929,  6.894897  ,  3.79498559,\n",
       "        2.18335528,  4.67216495,  1.79696114,  2.65256359,  4.8091642 ,\n",
       "        2.43026675,  9.07447549,  5.55155982,  4.53213361,  3.25629878,\n",
       "        5.56234016,  2.84505575,  4.00451587,  2.56718164,  3.52935865,\n",
       "        2.44032968,  1.74324559,  6.21844762,  3.08714262,  4.6172585 ,\n",
       "        2.75262191,  2.52609484, 12.07962689,  2.89112076,  8.37157625,\n",
       "        5.60770577,  4.12866043,  2.73081669,  4.90002741,  2.90803251,\n",
       "        3.43421398,  2.84111712,  3.89363924,  4.76768841,  2.02224195,\n",
       "        2.9346011 ,  2.71956825,  6.94726041,  2.74507681,  9.45356143,\n",
       "        5.68500703,  2.29928977,  2.55525482,  3.71166127,  4.28872674,\n",
       "        4.18181596,  2.76892359,  6.604164  ,  3.69364465,  2.66384107,\n",
       "        5.75965983,  8.25247404,  2.3174971 ,  4.60893959,  2.10780186,\n",
       "        2.53856333,  3.90044067,  2.25634203,  4.30072335,  4.14635451,\n",
       "        1.9088594 ,  6.0116496 ,  4.44266805,  2.73230748,  2.79323574,\n",
       "        2.20281344,  1.91555662,  2.80118471,  2.14511923,  3.40733928,\n",
       "        2.67080351,  3.84674371,  3.79146862,  2.34509728,  3.40575781,\n",
       "        3.66121184,  3.94986655,  4.67714191,  3.43272307,  5.3400405 ,\n",
       "        3.11997336,  1.99063546,  4.74999974, 10.65202397,  2.76702823,\n",
       "        3.6996985 ,  2.33657648,  1.61607729,  2.94484224,  5.80324673,\n",
       "        3.4227674 ,  2.11795274,  1.594866  ,  2.94076397,  2.2742811 ,\n",
       "        2.90373382,  3.17547025,  3.07369936,  4.04360347,  5.95885442,\n",
       "        2.87322178,  4.65291859,  1.78015802,  2.5609861 ,  3.94590078,\n",
       "       11.99065054,  2.8833901 ,  3.62300719,  2.72921072,  3.66107678,\n",
       "        2.55404246,  4.4398297 ,  2.0390422 ,  2.57611133,  2.11010649,\n",
       "        2.81420834,  2.85034963,  2.90458958,  3.60135476,  1.6969378 ,\n",
       "        8.01617586,  3.48758252,  4.33211456,  2.67441298,  2.74922525,\n",
       "        2.72984989,  2.40185438,  4.39498269,  2.93204111,  2.96190396,\n",
       "        3.07359996,  5.02945556,  3.65783607,  3.12241034,  2.98449201,\n",
       "        3.71960099,  1.61603985,  2.4763778 ,  4.93739554,  4.25226925,\n",
       "        5.60959932,  3.43118403,  2.3012021 ,  3.88199942,  2.8788173 ,\n",
       "        3.92940167,  1.86772191,  2.9069916 ,  2.85482499,  1.90159225,\n",
       "        2.60023352,  4.4684576 ,  3.62878576,  5.20306743,  3.81715559,\n",
       "        4.31347651,  2.41621382,  4.21480716,  2.48637203,  7.70883324,\n",
       "        2.65152514,  3.90598416,  4.85721219,  3.85428784,  3.49498215,\n",
       "        3.47626422,  8.18885517,  2.85077281,  2.43431234,  3.60864446,\n",
       "        7.89531459,  8.19655867,  2.87760713,  3.47602627,  7.9315484 ,\n",
       "        1.87812462,  4.03586313,  3.66981085,  4.66198794,  2.42537853,\n",
       "        4.37798003,  2.76076775,  4.0797747 ,  5.62483929,  4.49886064,\n",
       "        2.19775813,  2.73471949,  2.42934797,  4.23817513,  2.706938  ,\n",
       "        2.81579411,  2.73265362,  2.97595184,  2.43198695,  2.9793679 ,\n",
       "        2.5265979 ,  5.82211889,  3.9655337 ,  3.64005373,  3.81883901,\n",
       "        3.29503849,  3.12252295,  2.64376907,  3.24514869,  3.7395947 ,\n",
       "        4.99457232,  1.89976594,  3.43591339,  8.73885508, 10.72698669,\n",
       "        6.70338558,  6.50794214,  3.61579902,  6.43936622,  3.94202642,\n",
       "        1.82108674,  4.63428645,  3.29280518,  2.2844424 ,  4.39545268,\n",
       "        2.52041255,  4.0491475 ,  4.62303288,  8.585978  ,  3.33209457,\n",
       "        4.21479665,  3.02619699,  4.0643268 ,  2.78440447,  3.17846548,\n",
       "        8.74342099,  2.07315107,  5.30643631,  3.13184329,  2.30165634,\n",
       "        9.95299828,  5.52424669,  2.19693674,  2.81355848,  2.95427974,\n",
       "        3.40080038,  5.24920677,  3.60911852,  3.4131604 ,  3.86507964,\n",
       "        3.24244445,  4.11438686,  1.98372149,  6.97045273,  2.92227947,\n",
       "        7.79258355,  2.79040222, 10.62506422,  3.67438826,  2.85919798,\n",
       "        4.48655279,  2.95380765,  2.34231724,  2.96095335,  3.13040379,\n",
       "        4.18219041,  3.01260675,  2.99709464,  4.72672666,  6.81899397,\n",
       "        6.69656753,  3.70617391,  4.56490657,  3.56533765,  6.16232614,\n",
       "        2.99843024,  2.91034039,  4.31557255,  3.30432557,  2.11222149,\n",
       "        2.50322134,  2.99600081,  3.70202619,  2.15853172,  2.6491902 ,\n",
       "        2.73481809,  6.82475698,  2.65578244,  2.19357788,  1.86947226,\n",
       "        3.72994548,  6.13865087,  2.35172451,  2.92474044,  3.50420477,\n",
       "        2.27590545,  2.2276556 ,  3.95551942,  4.19926717,  2.5967171 ,\n",
       "        2.74970806,  4.4390873 ,  2.00083868,  1.63266489,  3.27646456,\n",
       "        2.8630303 ,  6.63207174,  2.58658139,  3.0683822 ,  2.64091255,\n",
       "        4.64584598,  4.55196981,  2.78776547,  3.97005673,  3.33417493,\n",
       "       10.57350593,  5.76752799,  3.02524099,  2.99762442])"
      ]
     },
     "execution_count": 15,
     "metadata": {},
     "output_type": "execute_result"
    }
   ],
   "source": [
    "pred1"
   ]
  },
  {
   "cell_type": "code",
   "execution_count": 16,
   "id": "13460884",
   "metadata": {},
   "outputs": [
    {
     "name": "stdout",
     "output_type": "stream",
     "text": [
      "MSE:-  0.0028046050621431777\n",
      "RMSE:-  0.0529585220917576\n",
      "R2_Score:-  0.9991603960925617\n"
     ]
    }
   ],
   "source": [
    " from sklearn.metrics import mean_squared_error, r2_score\n",
    "    \n",
    "def calculate_metrics(y_test, y_pred):\n",
    "    mse = mean_squared_error(y_test, y_pred)\n",
    "    rmse = np.sqrt(mse)\n",
    "    r2_scors = r2_score(y_test,y_pred)\n",
    "    \n",
    "    print(\"MSE:- \",mse)\n",
    "    print(\"RMSE:- \",rmse)\n",
    "    print(\"R2_Score:- \",r2_scors)\n",
    "    \n",
    "calculate_metrics(y_test,pred1)"
   ]
  },
  {
   "cell_type": "code",
   "execution_count": 17,
   "id": "91b63d6b",
   "metadata": {},
   "outputs": [],
   "source": [
    "from sklearn.linear_model import Lasso,Ridge\n",
    "\n",
    "la = Lasso().fit(X_train,y_train)\n",
    "ri = Ridge().fit(X_train,y_train)\n",
    "\n",
    "la_p = la.predict(X_test)\n",
    "ri_p = ri.predict(X_test)"
   ]
  },
  {
   "cell_type": "code",
   "execution_count": 19,
   "id": "559be5e0",
   "metadata": {},
   "outputs": [
    {
     "name": "stdout",
     "output_type": "stream",
     "text": [
      "MSE:-  0.28004211697104847\n",
      "RMSE:-  0.5291900575134122\n",
      "R2_Score:-  0.9161648608462122\n"
     ]
    }
   ],
   "source": [
    "calculate_metrics(y_test, la_p)"
   ]
  },
  {
   "cell_type": "code",
   "execution_count": 22,
   "id": "1e97914c",
   "metadata": {
    "scrolled": false
   },
   "outputs": [
    {
     "name": "stdout",
     "output_type": "stream",
     "text": [
      "Fitting 5 folds for each of 25 candidates, totalling 125 fits\n",
      "[CV 1/5] END .......C=0.1, gamma=1, kernel=rbf;, score=-0.098 total time=   1.6s\n",
      "[CV 2/5] END .......C=0.1, gamma=1, kernel=rbf;, score=-0.105 total time=   1.5s\n",
      "[CV 3/5] END .......C=0.1, gamma=1, kernel=rbf;, score=-0.052 total time=   1.6s\n",
      "[CV 4/5] END .......C=0.1, gamma=1, kernel=rbf;, score=-0.082 total time=   1.6s\n",
      "[CV 5/5] END .......C=0.1, gamma=1, kernel=rbf;, score=-0.083 total time=   1.6s\n",
      "[CV 1/5] END .....C=0.1, gamma=0.1, kernel=rbf;, score=-0.097 total time=   1.6s\n",
      "[CV 2/5] END .....C=0.1, gamma=0.1, kernel=rbf;, score=-0.106 total time=   1.6s\n",
      "[CV 3/5] END .....C=0.1, gamma=0.1, kernel=rbf;, score=-0.051 total time=   1.6s\n",
      "[CV 4/5] END .....C=0.1, gamma=0.1, kernel=rbf;, score=-0.082 total time=   1.7s\n",
      "[CV 5/5] END .....C=0.1, gamma=0.1, kernel=rbf;, score=-0.083 total time=   1.7s\n",
      "[CV 1/5] END ....C=0.1, gamma=0.01, kernel=rbf;, score=-0.096 total time=   1.6s\n",
      "[CV 2/5] END ....C=0.1, gamma=0.01, kernel=rbf;, score=-0.105 total time=   1.6s\n",
      "[CV 3/5] END ....C=0.1, gamma=0.01, kernel=rbf;, score=-0.050 total time=   1.6s\n",
      "[CV 4/5] END ....C=0.1, gamma=0.01, kernel=rbf;, score=-0.079 total time=   1.6s\n",
      "[CV 5/5] END ....C=0.1, gamma=0.01, kernel=rbf;, score=-0.078 total time=   1.6s\n",
      "[CV 1/5] END ...C=0.1, gamma=0.001, kernel=rbf;, score=-0.093 total time=   1.6s\n",
      "[CV 2/5] END ...C=0.1, gamma=0.001, kernel=rbf;, score=-0.093 total time=   1.6s\n",
      "[CV 3/5] END ...C=0.1, gamma=0.001, kernel=rbf;, score=-0.048 total time=   1.7s\n",
      "[CV 4/5] END ...C=0.1, gamma=0.001, kernel=rbf;, score=-0.070 total time=   1.7s\n",
      "[CV 5/5] END ...C=0.1, gamma=0.001, kernel=rbf;, score=-0.076 total time=   1.6s\n",
      "[CV 1/5] END ..C=0.1, gamma=0.0001, kernel=rbf;, score=-0.080 total time=   1.6s\n",
      "[CV 2/5] END ..C=0.1, gamma=0.0001, kernel=rbf;, score=-0.080 total time=   1.6s\n",
      "[CV 3/5] END ..C=0.1, gamma=0.0001, kernel=rbf;, score=-0.037 total time=   1.6s\n",
      "[CV 4/5] END ..C=0.1, gamma=0.0001, kernel=rbf;, score=-0.053 total time=   1.6s\n",
      "[CV 5/5] END ..C=0.1, gamma=0.0001, kernel=rbf;, score=-0.062 total time=   1.7s\n",
      "[CV 1/5] END .........C=1, gamma=1, kernel=rbf;, score=-0.056 total time=   1.7s\n",
      "[CV 2/5] END .........C=1, gamma=1, kernel=rbf;, score=-0.052 total time=   1.8s\n",
      "[CV 3/5] END .........C=1, gamma=1, kernel=rbf;, score=-0.024 total time=   2.0s\n",
      "[CV 4/5] END .........C=1, gamma=1, kernel=rbf;, score=-0.045 total time=   1.8s\n",
      "[CV 5/5] END .........C=1, gamma=1, kernel=rbf;, score=-0.041 total time=   1.7s\n",
      "[CV 1/5] END .......C=1, gamma=0.1, kernel=rbf;, score=-0.054 total time=   1.8s\n",
      "[CV 2/5] END .......C=1, gamma=0.1, kernel=rbf;, score=-0.053 total time=   1.8s\n",
      "[CV 3/5] END .......C=1, gamma=0.1, kernel=rbf;, score=-0.022 total time=   1.8s\n",
      "[CV 4/5] END .......C=1, gamma=0.1, kernel=rbf;, score=-0.042 total time=   1.8s\n",
      "[CV 5/5] END .......C=1, gamma=0.1, kernel=rbf;, score=-0.036 total time=   1.7s\n",
      "[CV 1/5] END ......C=1, gamma=0.01, kernel=rbf;, score=-0.056 total time=   1.9s\n",
      "[CV 2/5] END ......C=1, gamma=0.01, kernel=rbf;, score=-0.066 total time=   1.7s\n",
      "[CV 3/5] END ......C=1, gamma=0.01, kernel=rbf;, score=-0.026 total time=   1.7s\n",
      "[CV 4/5] END ......C=1, gamma=0.01, kernel=rbf;, score=-0.032 total time=   1.7s\n",
      "[CV 5/5] END ......C=1, gamma=0.01, kernel=rbf;, score=-0.028 total time=   1.7s\n",
      "[CV 1/5] END .....C=1, gamma=0.001, kernel=rbf;, score=-0.086 total time=   1.7s\n",
      "[CV 2/5] END .....C=1, gamma=0.001, kernel=rbf;, score=-0.058 total time=   1.7s\n",
      "[CV 3/5] END .....C=1, gamma=0.001, kernel=rbf;, score=-0.039 total time=   1.7s\n",
      "[CV 4/5] END .....C=1, gamma=0.001, kernel=rbf;, score=-0.021 total time=   1.7s\n",
      "[CV 5/5] END .....C=1, gamma=0.001, kernel=rbf;, score=-0.049 total time=   1.9s\n",
      "[CV 1/5] END ....C=1, gamma=0.0001, kernel=rbf;, score=-0.104 total time=   1.7s\n",
      "[CV 2/5] END ....C=1, gamma=0.0001, kernel=rbf;, score=-0.092 total time=   1.6s\n",
      "[CV 3/5] END ....C=1, gamma=0.0001, kernel=rbf;, score=-0.053 total time=   1.6s\n",
      "[CV 4/5] END ....C=1, gamma=0.0001, kernel=rbf;, score=-0.027 total time=   1.7s\n",
      "[CV 5/5] END ....C=1, gamma=0.0001, kernel=rbf;, score=-0.050 total time=   1.7s\n",
      "[CV 1/5] END .........C=10, gamma=1, kernel=rbf;, score=0.001 total time=   1.8s\n",
      "[CV 2/5] END .........C=10, gamma=1, kernel=rbf;, score=0.002 total time=   1.8s\n",
      "[CV 3/5] END ........C=10, gamma=1, kernel=rbf;, score=-0.000 total time=   1.8s\n",
      "[CV 4/5] END .........C=10, gamma=1, kernel=rbf;, score=0.001 total time=   1.9s\n",
      "[CV 5/5] END .........C=10, gamma=1, kernel=rbf;, score=0.002 total time=   1.9s\n",
      "[CV 1/5] END .......C=10, gamma=0.1, kernel=rbf;, score=0.004 total time=   1.8s\n",
      "[CV 2/5] END .......C=10, gamma=0.1, kernel=rbf;, score=0.004 total time=   1.8s\n",
      "[CV 3/5] END .......C=10, gamma=0.1, kernel=rbf;, score=0.003 total time=   1.8s\n",
      "[CV 4/5] END .......C=10, gamma=0.1, kernel=rbf;, score=0.007 total time=   1.8s\n",
      "[CV 5/5] END .......C=10, gamma=0.1, kernel=rbf;, score=0.010 total time=   1.8s\n",
      "[CV 1/5] END .....C=10, gamma=0.01, kernel=rbf;, score=-0.008 total time=   1.8s\n",
      "[CV 2/5] END ......C=10, gamma=0.01, kernel=rbf;, score=0.007 total time=   1.8s\n",
      "[CV 3/5] END ......C=10, gamma=0.01, kernel=rbf;, score=0.002 total time=   1.9s\n",
      "[CV 4/5] END ......C=10, gamma=0.01, kernel=rbf;, score=0.038 total time=   1.8s\n",
      "[CV 5/5] END ......C=10, gamma=0.01, kernel=rbf;, score=0.003 total time=   1.8s\n",
      "[CV 1/5] END ....C=10, gamma=0.001, kernel=rbf;, score=-0.235 total time=   1.8s\n",
      "[CV 2/5] END ....C=10, gamma=0.001, kernel=rbf;, score=-0.175 total time=   1.9s\n",
      "[CV 3/5] END ....C=10, gamma=0.001, kernel=rbf;, score=-0.185 total time=   1.9s\n",
      "[CV 4/5] END ....C=10, gamma=0.001, kernel=rbf;, score=-0.109 total time=   1.9s\n",
      "[CV 5/5] END ....C=10, gamma=0.001, kernel=rbf;, score=-0.218 total time=   1.9s\n",
      "[CV 1/5] END ...C=10, gamma=0.0001, kernel=rbf;, score=-0.371 total time=   2.0s\n",
      "[CV 2/5] END ...C=10, gamma=0.0001, kernel=rbf;, score=-0.341 total time=   2.0s\n",
      "[CV 3/5] END ...C=10, gamma=0.0001, kernel=rbf;, score=-0.286 total time=   2.0s\n",
      "[CV 4/5] END ...C=10, gamma=0.0001, kernel=rbf;, score=-0.335 total time=   2.0s\n",
      "[CV 5/5] END ...C=10, gamma=0.0001, kernel=rbf;, score=-0.296 total time=   2.0s\n",
      "[CV 1/5] END ........C=100, gamma=1, kernel=rbf;, score=0.001 total time=   1.9s\n",
      "[CV 2/5] END ........C=100, gamma=1, kernel=rbf;, score=0.002 total time=   1.8s\n",
      "[CV 3/5] END .......C=100, gamma=1, kernel=rbf;, score=-0.000 total time=   1.9s\n",
      "[CV 4/5] END ........C=100, gamma=1, kernel=rbf;, score=0.001 total time=   1.8s\n",
      "[CV 5/5] END ........C=100, gamma=1, kernel=rbf;, score=0.002 total time=   1.8s\n",
      "[CV 1/5] END ......C=100, gamma=0.1, kernel=rbf;, score=0.004 total time=   1.8s\n",
      "[CV 2/5] END ......C=100, gamma=0.1, kernel=rbf;, score=0.004 total time=   1.8s\n",
      "[CV 3/5] END ......C=100, gamma=0.1, kernel=rbf;, score=0.003 total time=   1.8s\n",
      "[CV 4/5] END ......C=100, gamma=0.1, kernel=rbf;, score=0.007 total time=   1.9s\n",
      "[CV 5/5] END ......C=100, gamma=0.1, kernel=rbf;, score=0.010 total time=   1.8s\n",
      "[CV 1/5] END ....C=100, gamma=0.01, kernel=rbf;, score=-0.008 total time=   1.9s\n",
      "[CV 2/5] END .....C=100, gamma=0.01, kernel=rbf;, score=0.007 total time=   1.9s\n",
      "[CV 3/5] END .....C=100, gamma=0.01, kernel=rbf;, score=0.002 total time=   1.9s\n",
      "[CV 4/5] END .....C=100, gamma=0.01, kernel=rbf;, score=0.038 total time=   1.9s\n",
      "[CV 5/5] END .....C=100, gamma=0.01, kernel=rbf;, score=0.003 total time=   1.8s\n",
      "[CV 1/5] END ...C=100, gamma=0.001, kernel=rbf;, score=-0.290 total time=   2.2s\n",
      "[CV 2/5] END ...C=100, gamma=0.001, kernel=rbf;, score=-0.215 total time=   2.1s\n",
      "[CV 3/5] END ...C=100, gamma=0.001, kernel=rbf;, score=-0.209 total time=   2.2s\n",
      "[CV 4/5] END ...C=100, gamma=0.001, kernel=rbf;, score=-0.139 total time=   2.4s\n",
      "[CV 5/5] END ...C=100, gamma=0.001, kernel=rbf;, score=-0.270 total time=   2.2s\n",
      "[CV 1/5] END ..C=100, gamma=0.0001, kernel=rbf;, score=-0.822 total time=   3.8s\n",
      "[CV 2/5] END ..C=100, gamma=0.0001, kernel=rbf;, score=-0.883 total time=   3.8s\n",
      "[CV 3/5] END ..C=100, gamma=0.0001, kernel=rbf;, score=-0.658 total time=   3.9s\n",
      "[CV 4/5] END ..C=100, gamma=0.0001, kernel=rbf;, score=-0.492 total time=   3.8s\n",
      "[CV 5/5] END ..C=100, gamma=0.0001, kernel=rbf;, score=-0.740 total time=   3.7s\n",
      "[CV 1/5] END .......C=1000, gamma=1, kernel=rbf;, score=0.001 total time=   1.8s\n"
     ]
    },
    {
     "name": "stdout",
     "output_type": "stream",
     "text": [
      "[CV 2/5] END .......C=1000, gamma=1, kernel=rbf;, score=0.002 total time=   1.7s\n",
      "[CV 3/5] END ......C=1000, gamma=1, kernel=rbf;, score=-0.000 total time=   1.8s\n",
      "[CV 4/5] END .......C=1000, gamma=1, kernel=rbf;, score=0.001 total time=   1.8s\n",
      "[CV 5/5] END .......C=1000, gamma=1, kernel=rbf;, score=0.002 total time=   2.0s\n",
      "[CV 1/5] END .....C=1000, gamma=0.1, kernel=rbf;, score=0.004 total time=   1.8s\n",
      "[CV 2/5] END .....C=1000, gamma=0.1, kernel=rbf;, score=0.004 total time=   1.8s\n",
      "[CV 3/5] END .....C=1000, gamma=0.1, kernel=rbf;, score=0.003 total time=   1.8s\n",
      "[CV 4/5] END .....C=1000, gamma=0.1, kernel=rbf;, score=0.007 total time=   1.8s\n",
      "[CV 5/5] END .....C=1000, gamma=0.1, kernel=rbf;, score=0.010 total time=   1.8s\n",
      "[CV 1/5] END ...C=1000, gamma=0.01, kernel=rbf;, score=-0.008 total time=   1.8s\n",
      "[CV 2/5] END ....C=1000, gamma=0.01, kernel=rbf;, score=0.007 total time=   1.9s\n",
      "[CV 3/5] END ....C=1000, gamma=0.01, kernel=rbf;, score=0.002 total time=   2.0s\n",
      "[CV 4/5] END ....C=1000, gamma=0.01, kernel=rbf;, score=0.038 total time=   1.9s\n",
      "[CV 5/5] END ....C=1000, gamma=0.01, kernel=rbf;, score=0.003 total time=   1.8s\n",
      "[CV 1/5] END ..C=1000, gamma=0.001, kernel=rbf;, score=-0.291 total time=   2.2s\n",
      "[CV 2/5] END ..C=1000, gamma=0.001, kernel=rbf;, score=-0.216 total time=   2.3s\n",
      "[CV 3/5] END ..C=1000, gamma=0.001, kernel=rbf;, score=-0.209 total time=   2.3s\n",
      "[CV 4/5] END ..C=1000, gamma=0.001, kernel=rbf;, score=-0.138 total time=   2.3s\n",
      "[CV 5/5] END ..C=1000, gamma=0.001, kernel=rbf;, score=-0.268 total time=   2.4s\n",
      "[CV 1/5] END .C=1000, gamma=0.0001, kernel=rbf;, score=-0.980 total time=  13.7s\n",
      "[CV 2/5] END .C=1000, gamma=0.0001, kernel=rbf;, score=-0.929 total time=  14.0s\n",
      "[CV 3/5] END .C=1000, gamma=0.0001, kernel=rbf;, score=-0.639 total time=  13.0s\n",
      "[CV 4/5] END .C=1000, gamma=0.0001, kernel=rbf;, score=-0.672 total time=  14.9s\n",
      "[CV 5/5] END .C=1000, gamma=0.0001, kernel=rbf;, score=-0.889 total time=  16.9s\n"
     ]
    },
    {
     "data": {
      "text/html": [
       "<style>#sk-container-id-1 {color: black;}#sk-container-id-1 pre{padding: 0;}#sk-container-id-1 div.sk-toggleable {background-color: white;}#sk-container-id-1 label.sk-toggleable__label {cursor: pointer;display: block;width: 100%;margin-bottom: 0;padding: 0.3em;box-sizing: border-box;text-align: center;}#sk-container-id-1 label.sk-toggleable__label-arrow:before {content: \"▸\";float: left;margin-right: 0.25em;color: #696969;}#sk-container-id-1 label.sk-toggleable__label-arrow:hover:before {color: black;}#sk-container-id-1 div.sk-estimator:hover label.sk-toggleable__label-arrow:before {color: black;}#sk-container-id-1 div.sk-toggleable__content {max-height: 0;max-width: 0;overflow: hidden;text-align: left;background-color: #f0f8ff;}#sk-container-id-1 div.sk-toggleable__content pre {margin: 0.2em;color: black;border-radius: 0.25em;background-color: #f0f8ff;}#sk-container-id-1 input.sk-toggleable__control:checked~div.sk-toggleable__content {max-height: 200px;max-width: 100%;overflow: auto;}#sk-container-id-1 input.sk-toggleable__control:checked~label.sk-toggleable__label-arrow:before {content: \"▾\";}#sk-container-id-1 div.sk-estimator input.sk-toggleable__control:checked~label.sk-toggleable__label {background-color: #d4ebff;}#sk-container-id-1 div.sk-label input.sk-toggleable__control:checked~label.sk-toggleable__label {background-color: #d4ebff;}#sk-container-id-1 input.sk-hidden--visually {border: 0;clip: rect(1px 1px 1px 1px);clip: rect(1px, 1px, 1px, 1px);height: 1px;margin: -1px;overflow: hidden;padding: 0;position: absolute;width: 1px;}#sk-container-id-1 div.sk-estimator {font-family: monospace;background-color: #f0f8ff;border: 1px dotted black;border-radius: 0.25em;box-sizing: border-box;margin-bottom: 0.5em;}#sk-container-id-1 div.sk-estimator:hover {background-color: #d4ebff;}#sk-container-id-1 div.sk-parallel-item::after {content: \"\";width: 100%;border-bottom: 1px solid gray;flex-grow: 1;}#sk-container-id-1 div.sk-label:hover label.sk-toggleable__label {background-color: #d4ebff;}#sk-container-id-1 div.sk-serial::before {content: \"\";position: absolute;border-left: 1px solid gray;box-sizing: border-box;top: 0;bottom: 0;left: 50%;z-index: 0;}#sk-container-id-1 div.sk-serial {display: flex;flex-direction: column;align-items: center;background-color: white;padding-right: 0.2em;padding-left: 0.2em;position: relative;}#sk-container-id-1 div.sk-item {position: relative;z-index: 1;}#sk-container-id-1 div.sk-parallel {display: flex;align-items: stretch;justify-content: center;background-color: white;position: relative;}#sk-container-id-1 div.sk-item::before, #sk-container-id-1 div.sk-parallel-item::before {content: \"\";position: absolute;border-left: 1px solid gray;box-sizing: border-box;top: 0;bottom: 0;left: 50%;z-index: -1;}#sk-container-id-1 div.sk-parallel-item {display: flex;flex-direction: column;z-index: 1;position: relative;background-color: white;}#sk-container-id-1 div.sk-parallel-item:first-child::after {align-self: flex-end;width: 50%;}#sk-container-id-1 div.sk-parallel-item:last-child::after {align-self: flex-start;width: 50%;}#sk-container-id-1 div.sk-parallel-item:only-child::after {width: 0;}#sk-container-id-1 div.sk-dashed-wrapped {border: 1px dashed gray;margin: 0 0.4em 0.5em 0.4em;box-sizing: border-box;padding-bottom: 0.4em;background-color: white;}#sk-container-id-1 div.sk-label label {font-family: monospace;font-weight: bold;display: inline-block;line-height: 1.2em;}#sk-container-id-1 div.sk-label-container {text-align: center;}#sk-container-id-1 div.sk-container {/* jupyter's `normalize.less` sets `[hidden] { display: none; }` but bootstrap.min.css set `[hidden] { display: none !important; }` so we also need the `!important` here to be able to override the default hidden behavior on the sphinx rendered scikit-learn.org. See: https://github.com/scikit-learn/scikit-learn/issues/21755 */display: inline-block !important;position: relative;}#sk-container-id-1 div.sk-text-repr-fallback {display: none;}</style><div id=\"sk-container-id-1\" class=\"sk-top-container\"><div class=\"sk-text-repr-fallback\"><pre>GridSearchCV(estimator=SVR(),\n",
       "             param_grid={&#x27;C&#x27;: [0.1, 1, 10, 100, 1000],\n",
       "                         &#x27;gamma&#x27;: [1, 0.1, 0.01, 0.001, 0.0001],\n",
       "                         &#x27;kernel&#x27;: [&#x27;rbf&#x27;]},\n",
       "             verbose=3)</pre><b>In a Jupyter environment, please rerun this cell to show the HTML representation or trust the notebook. <br />On GitHub, the HTML representation is unable to render, please try loading this page with nbviewer.org.</b></div><div class=\"sk-container\" hidden><div class=\"sk-item sk-dashed-wrapped\"><div class=\"sk-label-container\"><div class=\"sk-label sk-toggleable\"><input class=\"sk-toggleable__control sk-hidden--visually\" id=\"sk-estimator-id-1\" type=\"checkbox\" ><label for=\"sk-estimator-id-1\" class=\"sk-toggleable__label sk-toggleable__label-arrow\">GridSearchCV</label><div class=\"sk-toggleable__content\"><pre>GridSearchCV(estimator=SVR(),\n",
       "             param_grid={&#x27;C&#x27;: [0.1, 1, 10, 100, 1000],\n",
       "                         &#x27;gamma&#x27;: [1, 0.1, 0.01, 0.001, 0.0001],\n",
       "                         &#x27;kernel&#x27;: [&#x27;rbf&#x27;]},\n",
       "             verbose=3)</pre></div></div></div><div class=\"sk-parallel\"><div class=\"sk-parallel-item\"><div class=\"sk-item\"><div class=\"sk-label-container\"><div class=\"sk-label sk-toggleable\"><input class=\"sk-toggleable__control sk-hidden--visually\" id=\"sk-estimator-id-2\" type=\"checkbox\" ><label for=\"sk-estimator-id-2\" class=\"sk-toggleable__label sk-toggleable__label-arrow\">estimator: SVR</label><div class=\"sk-toggleable__content\"><pre>SVR()</pre></div></div></div><div class=\"sk-serial\"><div class=\"sk-item\"><div class=\"sk-estimator sk-toggleable\"><input class=\"sk-toggleable__control sk-hidden--visually\" id=\"sk-estimator-id-3\" type=\"checkbox\" ><label for=\"sk-estimator-id-3\" class=\"sk-toggleable__label sk-toggleable__label-arrow\">SVR</label><div class=\"sk-toggleable__content\"><pre>SVR()</pre></div></div></div></div></div></div></div></div></div></div>"
      ],
      "text/plain": [
       "GridSearchCV(estimator=SVR(),\n",
       "             param_grid={'C': [0.1, 1, 10, 100, 1000],\n",
       "                         'gamma': [1, 0.1, 0.01, 0.001, 0.0001],\n",
       "                         'kernel': ['rbf']},\n",
       "             verbose=3)"
      ]
     },
     "execution_count": 22,
     "metadata": {},
     "output_type": "execute_result"
    }
   ],
   "source": [
    "from sklearn.svm import SVR\n",
    "from sklearn.model_selection import GridSearchCV\n",
    "\n",
    "svr = SVR()\n",
    "\n",
    "param_grid ={'C': [0.1,1,10,100,1000],\n",
    "             'gamma': [1,0.1,0.01,0.001,0.0001],\n",
    "             'kernel': ['rbf']}\n",
    "\n",
    "grid = GridSearchCV(SVR(), param_grid,refit=True, verbose=3)\n",
    "grid.fit(X_train,y_train)"
   ]
  },
  {
   "cell_type": "code",
   "execution_count": 28,
   "id": "e69f5c58",
   "metadata": {
    "scrolled": false
   },
   "outputs": [
    {
     "data": {
      "text/plain": [
       "array([3.83939614, 3.83939609, 3.83733859, 3.83939577, 3.40014455,\n",
       "       3.83939609, 3.09906181, 3.83937557, 3.83939609, 3.83787122,\n",
       "       3.83939609, 4.06426408, 3.83975373, 4.29983325, 5.24798975,\n",
       "       5.39428844, 3.90873609, 3.83939609, 3.8225054 , 3.83939609,\n",
       "       3.86182562, 3.82448874, 4.02824705, 3.210728  , 4.06927853,\n",
       "       2.27345098, 2.53667666, 3.83939608, 3.83939609, 3.37005784,\n",
       "       3.8393722 , 3.83939609, 3.8409853 , 5.14463722, 3.83939609,\n",
       "       3.83925973, 3.7703774 , 3.5970251 , 3.83939609, 3.83939609,\n",
       "       3.83939609, 3.99362147, 3.83939607, 3.83939609, 3.83939609,\n",
       "       3.83939609, 3.7358679 , 4.30702733, 3.83201898, 3.93671362,\n",
       "       3.83939609, 3.64404788, 3.83939588, 3.83939606, 3.8393961 ,\n",
       "       3.73222923, 4.2524295 , 3.83928647, 3.93457646, 4.11022809,\n",
       "       3.87608326, 3.83939609, 3.70263943, 3.83939609, 3.83939609,\n",
       "       3.83939609, 2.22528133, 3.07412692, 3.83939609, 3.83939609,\n",
       "       3.83939609, 3.83939609, 4.43327742, 3.83732382, 3.83433025,\n",
       "       3.82509358, 4.11838335, 3.83939609, 3.83932409, 3.83227371,\n",
       "       3.83582735, 3.83934281, 3.76792254, 3.50546757, 3.83939807,\n",
       "       3.85678551, 3.81600494, 3.86725214, 3.8393951 , 3.83939609,\n",
       "       2.92848542, 3.83939609, 3.83912819, 3.91563832, 3.83939609,\n",
       "       3.8113344 , 3.83939609, 3.9086706 , 3.83939609, 3.83939609,\n",
       "       3.83939609, 4.1410984 , 3.83939609, 3.83906553, 3.76245488,\n",
       "       2.42446474, 3.83939609, 3.01844415, 3.83939608, 3.83939605,\n",
       "       3.89045684, 3.82100291, 3.84331351, 3.83939609, 4.05648993,\n",
       "       3.47776288, 3.83939609, 3.83939609, 3.76059653, 3.87256485,\n",
       "       3.83939609, 3.83939609, 3.51052583, 3.83935938, 3.83988561,\n",
       "       2.82642174, 3.83896764, 3.83333787, 3.83895586, 3.83122455,\n",
       "       3.83939609, 3.82534444, 3.78183671, 3.8054571 , 3.15441112,\n",
       "       3.83939609, 3.35451212, 6.33970182, 3.74014927, 3.83939566,\n",
       "       3.7953007 , 3.83939521, 3.83938378, 3.839397  , 3.83939609,\n",
       "       3.83939609, 3.9785468 , 3.83939609, 3.90391176, 3.83746999,\n",
       "       2.72739806, 3.98085594, 4.19589682, 3.83939603, 3.83809189,\n",
       "       4.06215265, 3.81434077, 2.83643563, 3.83939609, 3.54481752,\n",
       "       3.83939609, 3.8397321 , 3.83973248, 3.83939609, 3.80392467,\n",
       "       3.78012088, 3.62976316, 3.79593737, 3.83939609, 3.52174235,\n",
       "       3.83713115, 2.52478554, 4.19711991, 3.41865035, 3.83939609,\n",
       "       3.84195478, 4.11453718, 3.83939609, 3.83939609, 3.82951898,\n",
       "       3.83939609, 3.38047455, 3.83939607, 3.83939609, 4.30706771,\n",
       "       3.83939609, 3.38532204, 3.83939609, 2.8367404 , 3.8311847 ,\n",
       "       3.83939608, 3.83939609, 3.83939609, 3.90015164, 3.8393957 ,\n",
       "       3.83939609, 3.1880726 , 3.84016045, 3.83939609, 3.96440745,\n",
       "       4.6296576 , 3.8294609 , 3.8048464 , 3.87215254, 3.06677722,\n",
       "       3.83941114, 3.83939609, 3.83939609, 3.37568724, 3.70609091,\n",
       "       3.83939557, 3.52791278, 3.83939609, 3.7502532 , 3.00385619,\n",
       "       3.83939609, 3.83939609, 4.04535899, 3.83939609, 3.83939609,\n",
       "       3.83939609, 3.17463542, 3.83938139, 3.83943838, 3.52337156,\n",
       "       3.82937623, 2.93839742, 4.082932  , 3.83042493, 3.97547722,\n",
       "       3.83939609, 3.83939609, 4.00988205, 3.83939646, 3.83939609,\n",
       "       2.70893201, 3.83939609, 3.8393961 , 3.83882645, 5.40155477,\n",
       "       3.82159222, 3.83940227, 3.85636641, 4.04012038, 2.65165795,\n",
       "       3.83936486, 3.83939551, 3.56208794, 3.85103135, 3.83939609,\n",
       "       3.8393961 , 3.839397  , 3.81694179, 3.78297132, 3.84219298,\n",
       "       3.4919351 , 3.83054176, 3.83939609, 3.83872902, 3.8393061 ,\n",
       "       3.84576998, 3.83869294, 3.90975061, 3.83939608, 3.83952581,\n",
       "       3.84077803, 3.83939593, 4.1589566 , 4.16770462, 3.84124422,\n",
       "       4.94486636, 3.83939609, 3.83921741, 3.83939609, 3.83939609,\n",
       "       3.83939609, 3.83767288, 3.83939609, 3.55455265, 3.83939609,\n",
       "       3.71099938, 3.83939609, 4.77174104, 3.53632876, 3.83939609,\n",
       "       3.84604105, 3.49124044, 2.62849272, 3.88361498, 3.83939616,\n",
       "       2.16134902, 2.68815357, 5.47478142, 4.65713357, 3.83939609,\n",
       "       3.21392032, 2.64500803, 3.83939609, 3.83939609, 3.83917819,\n",
       "       3.17898651, 4.47781609, 3.83940609, 3.34429445, 3.80603493,\n",
       "       3.83939606, 3.30124394, 3.83903584, 3.83933863, 3.83939609,\n",
       "       2.64396073, 3.83863754, 3.74706098, 3.83988089, 3.46312895,\n",
       "       3.83939054, 3.80428645, 2.78512613, 3.83939609, 3.83939609,\n",
       "       3.36591451, 3.8333897 , 3.66070651, 5.699989  , 3.60153256,\n",
       "       3.83939609, 3.83939602, 3.83929414, 3.37219807, 3.83939609,\n",
       "       3.83939609, 3.83906693, 3.83939608, 3.83939609, 3.83939609,\n",
       "       3.446651  , 2.73634138, 3.83939609, 3.35950842, 3.83939609,\n",
       "       6.23544864, 3.83939609, 3.01733533, 3.83939609, 3.88675638,\n",
       "       3.67885145, 3.83710009, 3.83939608, 3.83931237, 3.83442499,\n",
       "       3.92397312, 3.83939609, 2.66915875, 4.29213234, 5.5749083 ,\n",
       "       3.83854187, 3.83939609, 3.83952856, 4.8364854 , 3.86414698,\n",
       "       3.83938894, 3.83939609, 3.83939609, 3.73369898, 3.83942835,\n",
       "       3.83939609, 3.83831972, 3.86061365, 3.83939339, 3.87664209,\n",
       "       3.83939609, 3.83845297, 3.83939609, 3.5986236 , 3.25465595,\n",
       "       3.83939609, 3.83946437, 3.84471075, 3.84366362, 3.83162882,\n",
       "       4.15570917, 3.61791717, 7.81634076, 3.83939609, 2.9781351 ,\n",
       "       3.83939609, 3.83939609, 3.77064215, 4.26200005, 3.83581555,\n",
       "       3.83939661, 3.54118517, 3.89610491, 3.84014771, 3.83939609,\n",
       "       2.97517259, 3.83939609, 3.83939608, 3.83939609, 3.83939594,\n",
       "       3.83937107, 3.66277845, 3.83061913, 2.74101303, 3.21213068,\n",
       "       3.83939594, 3.83939609, 3.58028796, 3.54041582, 3.83939609,\n",
       "       3.83939609, 3.83939049, 3.83871759, 3.83939609, 3.82319505,\n",
       "       3.83853138, 3.85890217, 3.84049059, 3.83939609, 3.83939609,\n",
       "       2.92457444, 3.58694183, 3.81880208, 3.84478615, 3.83939609,\n",
       "       3.8407943 , 3.83939609, 3.83924303, 3.83954529, 3.8393942 ,\n",
       "       3.92613494, 4.14700268, 3.73414401, 3.83939609, 3.83939609,\n",
       "       3.88263428, 3.83939609, 3.8266434 , 3.59821337, 3.83947617,\n",
       "       3.4178295 , 3.83939609, 3.83939609, 3.7548131 , 2.63294708,\n",
       "       3.83556115, 3.28813983, 3.83939609, 3.83375327, 4.6025926 ,\n",
       "       3.83842405, 3.83939606, 3.79161939, 3.84073877, 3.84650021,\n",
       "       3.83939609, 3.83939609, 3.70674072, 4.23349797, 3.83939154,\n",
       "       3.83939609, 3.83939609, 3.83939595, 3.67944704, 4.29282118,\n",
       "       3.83939608, 7.69370926, 3.83651557, 3.74735111, 3.83939575,\n",
       "       3.83939163, 3.83939243, 3.08050583, 4.6141723 , 3.83939609,\n",
       "       3.83939609, 3.83939609, 3.83359037, 3.59340849, 3.83939609,\n",
       "       3.85725664, 2.82717077, 3.83939138, 3.83939609, 3.83939723,\n",
       "       4.13768427, 3.83939607, 4.1379816 , 3.83611345, 3.83939609,\n",
       "       3.83939609, 3.59719885, 2.83322371, 3.83939609, 3.54746334,\n",
       "       3.83855993, 4.86460659, 3.84118895, 3.83590093, 3.83939609,\n",
       "       3.2444544 , 6.18125873, 3.83939609, 3.78220043, 3.83942107,\n",
       "       3.81337031, 3.6645247 , 3.86648468, 3.83939609, 3.83939406,\n",
       "       3.97037196, 3.54085874, 6.3879851 , 3.83939645, 3.83939609,\n",
       "       3.83952154, 3.83939522, 4.43958424, 3.89512387, 3.83939627,\n",
       "       3.83939621, 3.83953074, 3.83939609, 2.81117808, 3.83025506,\n",
       "       3.83939609, 3.83939071, 2.72241788, 3.83939609, 3.73877958,\n",
       "       3.83939542, 3.7910507 , 3.9999675 , 3.83939609, 3.83939609,\n",
       "       3.83939609, 3.30634938, 3.81114928, 3.8475169 , 3.16977361,\n",
       "       3.83939973, 4.55401606, 3.83934785, 3.83939609, 3.11327096,\n",
       "       3.83939609, 3.93202685, 3.83939433, 3.50660273, 3.70019074,\n",
       "       3.83858674, 3.83939609, 3.83939609, 3.83939609, 3.83939609,\n",
       "       3.83939609, 3.83939609, 3.27220275, 3.56344269, 3.83932491,\n",
       "       3.83932565, 3.28669335, 2.91132768, 3.83982411, 3.83939609,\n",
       "       3.83885278, 3.81873294, 3.8393937 , 3.52795808, 3.83939609,\n",
       "       4.20505869, 3.83939553, 3.84097713, 3.80991009, 3.59385662,\n",
       "       3.4463113 , 3.93557473, 3.83938481, 3.83930998, 3.80396016,\n",
       "       2.53398339, 3.25061065, 3.32248802, 3.54681911, 3.8395728 ,\n",
       "       3.83969648, 2.63523071, 3.83939609, 3.83939609, 3.8179258 ,\n",
       "       2.31901128, 3.83939609, 3.83939609, 3.90796136, 3.83939609,\n",
       "       3.83939609, 3.83928192, 3.8394015 , 4.62814183, 3.83939609,\n",
       "       3.8286759 , 3.8393957 , 3.86139413, 3.84199451, 3.84585621,\n",
       "       3.83939609, 3.82172033, 3.83939394, 3.79224799, 3.13133701,\n",
       "       3.83939609, 3.83913704, 3.83939609, 3.5801525 , 3.83939608,\n",
       "       3.77929929, 3.31417145, 3.83940764, 3.80397954, 3.83939608,\n",
       "       1.95854284, 3.83939609, 4.46832659, 3.83709183, 3.98821714,\n",
       "       3.83939609, 3.83743913, 3.94180864, 4.31068846, 3.83939609,\n",
       "       4.70913812, 3.83939609, 3.30042806, 4.09475469, 3.8393975 ,\n",
       "       3.83939608, 3.82228027, 3.76482803, 3.41958562, 3.66256707,\n",
       "       2.6656894 , 3.85158878, 3.83939609, 3.15835631, 2.97452485,\n",
       "       3.8393701 , 3.84199518, 4.13424019, 3.71193631, 5.7147122 ,\n",
       "       3.83939609, 3.83939609, 3.83939609, 3.01343065, 3.83929925,\n",
       "       3.83939609, 3.95992046, 3.83939609, 3.33602367, 3.4527447 ,\n",
       "       3.66164522, 3.7856128 , 3.89566723, 1.95575792, 3.83939609,\n",
       "       3.83939609, 3.83934612, 5.3720628 , 4.91801534, 3.7484201 ,\n",
       "       3.07919432, 4.12279641, 3.82096716, 3.60207463, 3.39785031,\n",
       "       3.82619744, 3.85773636, 4.23647342, 3.83939609, 3.32002725,\n",
       "       2.62383011, 3.83939609, 3.36938597, 2.46960499, 3.83568552,\n",
       "       3.83669415, 3.49017259, 3.82899129, 3.94382741, 3.83939609,\n",
       "       3.83939609, 3.39438857, 3.83939609, 4.399074  , 3.84188096,\n",
       "       3.9190522 , 3.83939609, 3.83939609, 3.53244172, 3.83939609,\n",
       "       3.86633609, 3.83939609, 3.83939609, 3.83939609, 3.8394012 ,\n",
       "       3.83939718, 3.83939609, 3.01479324, 3.83939609, 3.83939609,\n",
       "       3.51395734, 5.42423852, 3.83852974, 3.83939609, 3.83918527,\n",
       "       3.83939609, 3.83940192, 3.83939609, 3.83921497, 2.99807777,\n",
       "       3.49006665, 3.43903634, 3.9094257 , 3.83635018, 3.84468918,\n",
       "       3.52245773, 3.79919242, 3.83939609, 4.40274008, 4.01731028,\n",
       "       3.83939609, 3.83939609, 3.83939702, 3.84027863, 3.80164314,\n",
       "       3.83939573, 3.83939609, 4.43878566, 3.83184303, 2.70125871,\n",
       "       1.91420052, 4.50983569, 3.49409441, 3.44693895, 3.82371341,\n",
       "       3.83941081, 4.08764347, 3.85187409, 3.95266401, 3.83939609,\n",
       "       3.83939596, 3.4975831 , 3.83945447, 3.83939623, 3.80557482,\n",
       "       3.83456814, 3.83939609, 3.83939608, 3.6012049 , 3.83939677,\n",
       "       3.08621374, 3.81449819, 3.55053653, 4.07135936, 3.83939609,\n",
       "       4.20630098, 2.42671695, 3.8377543 , 3.8383988 , 3.22029046,\n",
       "       3.8393688 , 3.84259884, 3.84210832, 3.83939255, 3.83939609,\n",
       "       3.83939609, 3.83939609, 3.83939609, 3.83939609, 3.83879177,\n",
       "       3.83939609, 3.83939609, 3.83939609, 3.83939648, 3.83939609,\n",
       "       3.83788098, 4.19894845, 3.97421048, 3.83939609, 3.83939609,\n",
       "       2.61114293, 3.83939609, 3.83939312, 3.83939609, 3.83939565,\n",
       "       4.23672806, 3.83930889, 3.83939609, 3.83939388, 3.83939609,\n",
       "       3.87406231, 3.90733545, 3.83939445, 3.89371641, 3.83938318,\n",
       "       3.83955749, 3.83939609, 3.83867839, 3.83939603])"
      ]
     },
     "execution_count": 28,
     "metadata": {},
     "output_type": "execute_result"
    }
   ],
   "source": [
    "svr = SVR(C=10, gamma=0.01, kernel='rbf')\n",
    "svr.fit(X_train,y_train)\n",
    "svr_pred = svr.predict(X_test)\n",
    "svr_pred"
   ]
  },
  {
   "cell_type": "code",
   "execution_count": 29,
   "id": "6cd27bab",
   "metadata": {
    "scrolled": true
   },
   "outputs": [
    {
     "name": "stdout",
     "output_type": "stream",
     "text": [
      "Actual value:-  4.392000198364258\n",
      "Model Predicted Value:-  3.8393961353918145\n"
     ]
    }
   ],
   "source": [
    "print(\"Actual value:- \", y_test[0])\n",
    "print(\"Model Predicted Value:- \",svr_pred[0])"
   ]
  },
  {
   "cell_type": "code",
   "execution_count": 30,
   "id": "50c7f294",
   "metadata": {},
   "outputs": [
    {
     "name": "stdout",
     "output_type": "stream",
     "text": [
      "Mean squared error:  3.2459510339462914\n",
      "Root mean squared error:  1.801652306619202\n"
     ]
    }
   ],
   "source": [
    "from sklearn.metrics import mean_squared_error\n",
    "\n",
    "mse = mean_squared_error(y_test, svr_pred)\n",
    "rmse = np.sqrt(mse)\n",
    "print(\"Mean squared error: \",mse)\n",
    "print(\"Root mean squared error: \",rmse)"
   ]
  },
  {
   "cell_type": "code",
   "execution_count": null,
   "id": "b85a887e",
   "metadata": {},
   "outputs": [],
   "source": []
  },
  {
   "cell_type": "code",
   "execution_count": null,
   "id": "1f573bd8",
   "metadata": {},
   "outputs": [],
   "source": []
  }
 ],
 "metadata": {
  "kernelspec": {
   "display_name": "Python 3 (ipykernel)",
   "language": "python",
   "name": "python3"
  },
  "language_info": {
   "codemirror_mode": {
    "name": "ipython",
    "version": 3
   },
   "file_extension": ".py",
   "mimetype": "text/x-python",
   "name": "python",
   "nbconvert_exporter": "python",
   "pygments_lexer": "ipython3",
   "version": "3.11.5"
  }
 },
 "nbformat": 4,
 "nbformat_minor": 5
}
